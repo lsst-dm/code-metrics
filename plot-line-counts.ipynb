{
 "cells": [
  {
   "cell_type": "markdown",
   "metadata": {},
   "source": [
    "Parse the data files in `data/` directory and plot the results. The data files are YAML collected using the `cloc.pl` script and are named after the corresponding `lsst_distrib` weekly tag."
   ]
  },
  {
   "cell_type": "code",
   "execution_count": 9,
   "metadata": {},
   "outputs": [],
   "source": [
    "%matplotlib inline"
   ]
  },
  {
   "cell_type": "code",
   "execution_count": 1,
   "metadata": {},
   "outputs": [],
   "source": [
    "import os\n",
    "import glob\n",
    "import yaml"
   ]
  },
  {
   "cell_type": "code",
   "execution_count": 10,
   "metadata": {},
   "outputs": [],
   "source": [
    "import matplotlib.pyplot as plt\n",
    "import numpy as np"
   ]
  },
  {
   "cell_type": "code",
   "execution_count": 34,
   "metadata": {},
   "outputs": [],
   "source": [
    "yfiles = glob.glob(\"data/w.*.yaml\")"
   ]
  },
  {
   "cell_type": "markdown",
   "metadata": {},
   "source": [
    "Go through each file and convert the contents to a dict of dicts. Derive the date from the week number."
   ]
  },
  {
   "cell_type": "code",
   "execution_count": 35,
   "metadata": {},
   "outputs": [],
   "source": [
    "# Somewhere for the results\n",
    "results = {}\n",
    "\n",
    "for f in yfiles:\n",
    "    # Get the year and fraction from file name\n",
    "    year, week = os.path.basename(f).split(\".\")[1:3]\n",
    "\n",
    "    # Not completely accurate but close enough\n",
    "    yfrac = float(year) + (float(week)/52.0)\n",
    "\n",
    "    with open(f, \"r\") as fd:\n",
    "        data = yaml.safe_load(fd)\n",
    "\n",
    "    results[yfrac] = {}\n",
    "    these = results[yfrac]\n",
    "    for item in (\"code\", \"comment\", \"blank\"):\n",
    "        these[item] = {\"python\": data[\"Python\"][item],\n",
    "                       \"cpp\": (data[\"C++\"][item] + data[\"C/C++ Header\"][item]),\n",
    "                       \"all\": data[\"SUM\"][item]}\n",
    "\n",
    "    # Code and comments\n",
    "    these[\"lines\"] = {}\n",
    "    for lang in (\"python\", \"cpp\", \"all\"):\n",
    "        these[\"lines\"][lang] = these[\"comment\"][lang] + these[\"code\"][lang]\n"
   ]
  },
  {
   "cell_type": "code",
   "execution_count": 36,
   "metadata": {},
   "outputs": [],
   "source": [
    "# Sorted dates\n",
    "date_keys = sorted(results)\n",
    "dates = np.array(date_keys)\n",
    "\n",
    "# Create some datasets for plotting (they all have the same dates)\n",
    "datasets = {}\n",
    "for item in (\"code\", \"comment\", \"lines\"):\n",
    "    for lang in (\"python\", \"cpp\", \"all\"):\n",
    "        key = f\"{lang}_{item}\"\n",
    "        datasets[key] = np.array([results[y][item][lang] for y in date_keys])"
   ]
  },
  {
   "cell_type": "code",
   "execution_count": 37,
   "metadata": {},
   "outputs": [
    {
     "data": {
      "text/plain": [
       "dict_keys(['python_code', 'cpp_code', 'all_code', 'python_comment', 'cpp_comment', 'all_comment', 'python_lines', 'cpp_lines', 'all_lines'])"
      ]
     },
     "execution_count": 37,
     "metadata": {},
     "output_type": "execute_result"
    }
   ],
   "source": [
    "datasets.keys()"
   ]
  },
  {
   "cell_type": "code",
   "execution_count": 38,
   "metadata": {},
   "outputs": [
    {
     "data": {
      "text/plain": [
       "array([136774, 115996, 109809, 110139, 110188, 114645, 112549, 113898,\n",
       "       106209, 108628, 108771, 108982, 109094, 109235, 109597, 109771,\n",
       "       109893, 110318, 110790, 111180, 112633, 113282, 124183, 124655,\n",
       "       133690, 126352, 126899, 128269, 130655, 133801, 134749, 135166,\n",
       "       135502, 134868, 130388, 130177, 130183, 132832, 133796, 133796,\n",
       "       134856, 134885, 135248, 134568, 134682, 134883, 134879, 135024,\n",
       "       140214, 140336, 139438, 139680, 138529, 138621, 138757, 137127,\n",
       "       136466, 142814, 139609, 142730, 144313, 144959, 145195, 145570,\n",
       "       146309, 149158, 151035, 151318, 151548, 151750, 156893, 155548,\n",
       "       156097, 156141, 156637, 156805, 157001, 157186, 156107, 156055,\n",
       "       156458, 156897, 157451, 157761, 157864, 158169, 158956, 159466,\n",
       "       159630, 159726, 159811, 163273, 164165, 164147, 164404, 164483,\n",
       "       166981, 167613, 167797, 167838, 168199, 168531, 183728, 182752,\n",
       "       183120, 186133, 186440, 186348, 186369, 185423, 181568, 183308,\n",
       "       183302, 183455, 182440, 183267, 183303, 180799, 180964, 181143,\n",
       "       181529, 181855, 182008, 181920, 182075])"
      ]
     },
     "execution_count": 38,
     "metadata": {},
     "output_type": "execute_result"
    }
   ],
   "source": [
    "datasets[\"python_code\"]"
   ]
  },
  {
   "cell_type": "code",
   "execution_count": 39,
   "metadata": {},
   "outputs": [
    {
     "data": {
      "text/plain": [
       "(0, 300000)"
      ]
     },
     "execution_count": 39,
     "metadata": {},
     "output_type": "execute_result"
    },
    {
     "data": {
      "image/png": "[encoded data removed]",
      "text/plain": [
       "<Figure size 432x288 with 1 Axes>"
      ]
     },
     "metadata": {},
     "output_type": "display_data"
    }
   ],
   "source": [
    "# pybind11 was introduced at 2017.25, also jointcal\n",
    "# python3 port 2016.5\n",
    "# python jump at w.2016.06?\n",
    "# C++ and python spike at w.2016.12 not identified\n",
    "# ndarray removed 2016.7\n",
    "# meas_mosaic introduced at 2018.3\n",
    "plt.plot(dates, datasets[\"python_lines\"])\n",
    "# plt.plot(dates, datasets[\"python_comment\"])\n",
    "plt.plot(dates, datasets[\"cpp_lines\"])\n",
    "#plt.plot(dates, datasets[\"cpp_comment\"])\n",
    "#plt.plot(dates, datasets[\"all_code\"])\n",
    "#plt.plot(dates, datasets[\"all_lines\"])\n",
    "plt.title('Lines of LSST Science Pipelines code')\n",
    "plt.ylim([0, 300_000])"
   ]
  },
  {
   "cell_type": "code",
   "execution_count": null,
   "metadata": {},
   "outputs": [],
   "source": []
  }
 ],
 "metadata": {
  "kernelspec": {
   "display_name": "Python 3",
   "language": "python",
   "name": "python3"
  },
  "language_info": {
   "codemirror_mode": {
    "name": "ipython",
    "version": 3
   },
   "file_extension": ".py",
   "mimetype": "text/x-python",
   "name": "python",
   "nbconvert_exporter": "python",
   "pygments_lexer": "ipython3",
   "version": "3.6.1"
  }
 },
 "nbformat": 4,
 "nbformat_minor": 2
}
